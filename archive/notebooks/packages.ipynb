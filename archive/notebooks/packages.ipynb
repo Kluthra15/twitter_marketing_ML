{
 "cells": [
  {
   "cell_type": "code",
   "execution_count": null,
   "metadata": {},
   "outputs": [],
   "source": [
    "import tweepy \n",
    "import configparser\n",
    "import requests     # For saving access tokens and for file management when creating and adding to the dataset\n",
    "import os           # For dealing with json responses we receive from the API\n",
    "import json         # For displaying the data after\n",
    "import pandas as pd # For saving the response data in CSV format\n",
    "import csv          # For parsing the dates received from twitter in readable formats\n",
    "import datetime\n",
    "import dateutil.parser\n",
    "import unicodedata  #To add wait time between requests\n",
    "import time\n",
    "import sqlite3\n",
    "import re\n",
    "import twitter\n",
    "import seaborn as sns\n",
    "import matplotlib.pyplot as plt\n",
    "from sklearn.metrics import silhouette_score\n",
    "from bertopic import BERTopic\n",
    "from bertopic.representation import KeyBERTInspired, MaximalMarginalRelevance,PartOfSpeech\n",
    "from sentence_transformers import SentenceTransformer\n",
    "from sklearn.feature_extraction.text import CountVectorizer\n",
    "from umap import UMAP\n",
    "from hdbscan import HDBSCAN\n",
    "from nltk.corpus import stopwords\n",
    "from sklearn.model_selection import RandomizedSearchCV\n",
    "from flair.embeddings import TransformerDocumentEmbeddings\n",
    "import numpy as np\n",
    "from twitter import *\n",
    "from functools import partial\n",
    "from collections import Counter\n",
    "import nltk\n",
    "import string\n",
    "from nltk.corpus import wordnet\n",
    "from nltk.corpus import stopwords\n",
    "from nltk.stem import WordNetLemmatizer\n",
    "from nltk.stem.porter import PorterStemmer\n",
    "\n",
    "pd.set_option('display.max_columns', None)\n",
    "pd.set_option('display.max_rows', None)\n",
    "pd.set_option('display.max_colwidth', None)"
   ]
  }
 ],
 "metadata": {
  "language_info": {
   "name": "python"
  }
 },
 "nbformat": 4,
 "nbformat_minor": 2
}
