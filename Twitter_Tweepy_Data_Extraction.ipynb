{
 "cells": [
  {
   "attachments": {},
   "cell_type": "markdown",
   "metadata": {},
   "source": [
    "# TWITTER ANALYSIS - MENTORSHIP PROJECT\n"
   ]
  },
  {
   "attachments": {},
   "cell_type": "markdown",
   "metadata": {},
   "source": [
    "#### STEP 1. CONFIGURATION: ESTABLISHING CONNECTION TO THE API\n",
    "*Using Tweepy*"
   ]
  },
  {
   "cell_type": "code",
   "execution_count": 2,
   "metadata": {},
   "outputs": [],
   "source": [
    "import tweepy \n",
    "import configparser\n",
    "import requests     # For saving access tokens and for file management when creating and adding to the dataset\n",
    "import os           # For dealing with json responses we receive from the API\n",
    "import json         # For displaying the data after\n",
    "import pandas as pd # For saving the response data in CSV format\n",
    "import csv          # For parsing the dates received from twitter in readable formats\n",
    "import datetime\n",
    "import dateutil.parser\n",
    "import unicodedata  #To add wait time between requests\n",
    "import time"
   ]
  },
  {
   "cell_type": "code",
   "execution_count": 3,
   "metadata": {},
   "outputs": [],
   "source": [
    "#read configs\n",
    "config = configparser.ConfigParser()\n",
    "config.read('config.ini')\n",
    "\n",
    "api_key             = config['twitter']['api_key']\n",
    "api_key_secret      = config['twitter']['api_key_secret']\n",
    "\n",
    "access_token        = config['twitter']['access_token']\n",
    "access_token_secret = config['twitter']['access_token_secret']\n",
    "\n",
    "bearer_token        = config['twitter']['bearer_token']"
   ]
  },
  {
   "cell_type": "code",
   "execution_count": 4,
   "metadata": {},
   "outputs": [
    {
     "name": "stdout",
     "output_type": "stream",
     "text": [
      "KLuthra_\n"
     ]
    }
   ],
   "source": [
    "#Authenticate our account with the Twitter API\n",
    "auth    = tweepy.OAuthHandler(api_key, api_key_secret)\n",
    "auth.set_access_token(access_token, access_token_secret)\n",
    "api     = tweepy.API(auth)\n",
    "\n",
    "# You can authenticate as your app with just your bearer token\n",
    "client  = tweepy.Client(bearer_token=bearer_token)\n",
    "\n",
    "# If the authentication was successful, this should print the\n",
    "# screen name / username of the account\n",
    "print(api.verify_credentials().screen_name)"
   ]
  },
  {
   "attachments": {},
   "cell_type": "markdown",
   "metadata": {},
   "source": [
    "### STEP 2. DATA EXTRACTION\n",
    "####  2.1. Defining a tweet fetching function using Tweepy\n",
    "\n",
    "**__Pagination:__** Pagination is a feature in Twitter API v2 endpoints that return more results than can be returned in a single response. When that happens, the data is returned in a series of 'pages'. Pagination refers to methods for programatically requesting all of the pages, in order to retrieve the entire result data set. Not all API endpoints support or require pagination, but it is often used when result sets are large.\n",
    "\n",
    "**Paginator** can be used to paginate for any Client methods that support pagination"
   ]
  },
  {
   "cell_type": "code",
   "execution_count": 5,
   "metadata": {},
   "outputs": [],
   "source": [
    "def get_tweets(query, max_results, next_token = None):\n",
    "\n",
    "  expansions    = ['author_id','in_reply_to_user_id','geo.place_id','entities.mentions.username','referenced_tweets.id','referenced_tweets.id.author_id']\n",
    "  tweet_fields  = ['id','text','author_id','attachments','context_annotations','created_at','entities','lang','geo','public_metrics']\n",
    "  user_fields   = ['id','name','username','created_at','description','entities','location','public_metrics','verified']\n",
    "  place_fields  = ['full_name','id','country','country_code','geo','name','place_type']\n",
    "  try:\n",
    "    # call twitter api to fetch tweets\n",
    "    fetched_tweets = client.search_recent_tweets(query,\n",
    "      expansions        =expansions,\n",
    "      tweet_fields      =tweet_fields,\n",
    "      place_fields      =place_fields,\n",
    "      user_fields       =user_fields,\n",
    "      next_token        =next_token,\n",
    "      max_results       =max_results\n",
    "    )\n",
    "    \n",
    "    return fetched_tweets\n",
    "    \n",
    "\n",
    "  except Exception as e:\n",
    "    print(\"Error getting tweets\", e)"
   ]
  },
  {
   "attachments": {},
   "cell_type": "markdown",
   "metadata": {},
   "source": [
    "####  2.2. Extracting Domains and Entities from the Twitter API\n",
    "*Annotations have been added to the Tweet object from all v2 endpoints that return a Tweet object. Tweet annotations offer a way to understand contextual information about the Tweet itself. Though 100% of Tweets are reviewed, due to the contents of Tweet text, only a portion are annotated.*\n",
    "\n",
    "##### Tweet annotation types\n",
    "**Entities** Entity annotations are programmatically defined entities that are nested within the entities field and are reflected as annotations in the payload. Each annotation has a confidence score and an indication of where in the Tweet text the entities were identified (start and end fields).\n",
    "\n",
    "The entity annotations can have the following types:\n",
    "\n",
    "1. Person - Barack Obama, Daniel, or George W. Bush\n",
    "2. Place - Detroit, Cali, or \"San Francisco, California\"\n",
    "3. Product - Mountain Dew, Mozilla Firefox\n",
    "4. Organization - Chicago White Sox, IBM\n",
    "5. Other - Diabetes, Super Bowl 50\n",
    "\n",
    "**Context annotations** are delivered as a context_annotations field in the payload. These annotations are inferred based on semantic analysis (keywords, hashtags, handles, etc) of the Tweet text and result in domain and/or entity labels. Context annotations can yield one or many domains. At present, we’re using a list of 80+ domains reflected in the table below.  \n",
    "1. ID - 45: Brand Vertical\n",
    "2. ID - 46: Brand Category\n",
    "3. ID - 47: Brand\n",
    "4. ID - 48: Product"
   ]
  },
  {
   "cell_type": "code",
   "execution_count": 6,
   "metadata": {},
   "outputs": [],
   "source": [
    "# read the CSV file and store it in a DataFrame\n",
    "df = pd.read_csv('twitter-context-annotations/files/evergreen-context-entities-20220601.csv')\n",
    "\n",
    "def domain_filter(df):\n",
    "    context_list = []\n",
    "    mask = df['domains'].str.contains('^45$')\n",
    "    filtered_df = df[mask]\n",
    "    for index, row in filtered_df.iterrows():\n",
    "        domain_id = row['domains']\n",
    "        entity_id = row['entity_id']\n",
    "        entity_name = row['entity_name']   \n",
    "        # construct the query string\n",
    "        context = f'context:{domain_id}.{entity_id}'\n",
    "        context_list.append(context)\n",
    "        context_query = ' OR '.join(context_list)\n",
    "    return context_query"
   ]
  },
  {
   "attachments": {},
   "cell_type": "markdown",
   "metadata": {},
   "source": [
    "##### 2.2.1 DOMAIN-ENTITY QUERY CONSTRUCTION \n",
    "The *search_recent_tweets* function within the Twitter API has a query limit of 512 characters. To work around this, I have created a list of strings, less than 512 characters long, which contain the domain_id.entity_id search query broken up into chunks of 512 characters or less each which I will iterate through when making API requests to retrieve tweets"
   ]
  },
  {
   "cell_type": "code",
   "execution_count": 13,
   "metadata": {},
   "outputs": [],
   "source": [
    "#DOMAIN 45 : < 1 CHUNK\n",
    "#DOMAIN 46 : < 5 CHUNK\n",
    "#DOMAIN 47 : < 240 CHUNK\n",
    "#DOMAIN 45 : < 61 CHUNK\n",
    "\n",
    "context     = domain_filter(df)\n",
    "chunk_size  = 400\n",
    "code        = context\n",
    "chunks      = []\n",
    "start       = 0\n",
    "counter     = 0\n",
    "while start < len(code) and counter < 1:\n",
    "    end = start + chunk_size\n",
    "    if end >= len(code):\n",
    "        end = len(code)\n",
    "    end = code.rfind(\" OR \", start, end)\n",
    "    if end == -1:\n",
    "        end = start + chunk_size\n",
    "    chunk = code[start:end]\n",
    "    if chunk.startswith(\" OR \"):\n",
    "        chunk = chunk[4:]\n",
    "    chunks.append(chunk)\n",
    "    start = end\n",
    "    counter += 1\n",
    "\n",
    "# print (chunks)"
   ]
  },
  {
   "attachments": {},
   "cell_type": "markdown",
   "metadata": {},
   "source": [
    "##### 2.2.2 Defining Pre-Extraction Filtering "
   ]
  },
  {
   "cell_type": "code",
   "execution_count": 8,
   "metadata": {},
   "outputs": [],
   "source": [
    "def filter_rule(chunk):\n",
    "    hashtag_list    = '(#ad OR #sponsored OR #promoted OR #promotion)'\n",
    "    lang            = '(lang:en)'\n",
    "    rt              = '(-is:retweet) (-\"RT\")' \n",
    "    domain          =  chunk\n",
    "    mention         = 'has:mentions'\n",
    "    query           = hashtag_list + ' ' + lang + ' ' + rt + ' ' +  mention + ' ' + '(' + domain + ')'\n",
    "    return query"
   ]
  },
  {
   "cell_type": "code",
   "execution_count": 9,
   "metadata": {},
   "outputs": [],
   "source": [
    "import csv\n",
    "total_tweets = 0\n",
    "\n",
    "csvFile     = open(\"test.csv\", \"a\", newline=\"\", encoding='utf-8')\n",
    "csvWriter   = csv.writer(csvFile)\n",
    "\n",
    "#Create headers for the data you want to save, in this example, we only want save these columns in our dataset\n",
    "# csvWriter.writerow(['author_id', 'created_at', 'tweet_id','text'])\n",
    "csvFile.close()\n"
   ]
  },
  {
   "cell_type": "code",
   "execution_count": 10,
   "metadata": {},
   "outputs": [],
   "source": [
    "def append_to_csv(data, fileName):\n",
    "\n",
    "    #A counter variable\n",
    "    #Open OR create the target CSV file\n",
    "    csvFile = open(fileName, \"a\", newline=\"\", encoding='utf-8')\n",
    "    csvWriter = csv.writer(csvFile)\n",
    "\n",
    "    #Loop through each tweet\n",
    "    # for tweet in json_response['data']:\n",
    "    #     # We will create a variable for each since some of the keys might not exist for some tweets\n",
    "    #     # So we will account for that\n",
    "   \n",
    "    #     # 1. Author ID\n",
    "    #     author_id = tweet['author_id']\n",
    "    #     # 2. Time created\n",
    "    #     created_at = dateutil.parser.parse(tweet['created_at']) \n",
    "    #     # 3. Tweet ID\n",
    "    #     tweet_id = tweet['id']\n",
    "    #     # 4. Tweet text\n",
    "    #     text = tweet['text']\n",
    "    #     # Assemble all data in a list\n",
    "    #     res = [author_id, created_at, tweet_id, text]\n",
    "        \n",
    "    # Assemble all data in a list\n",
    "    res = [data['author_id'], data['created_at'], data['tweet_id'], data['text']]\n",
    "    # Append the result to the CSV file\n",
    "    csvWriter.writerow(res)\n",
    "    # counter += 1\n",
    "    # When done, close the CSV file\n",
    "    csvFile.close()\n",
    "\n",
    "    # Print the number of tweets for this iteration\n",
    "    # print(\"# of Tweets added from this response: \", counter) "
   ]
  },
  {
   "cell_type": "code",
   "execution_count": 11,
   "metadata": {},
   "outputs": [],
   "source": [
    "def deduplicate(file_path):\n",
    "    df = pd.read_csv(file_path)\n",
    "    df = df.drop_duplicates(subset=['tweet_id'])\n",
    "    df = df.sort_values(by='created_at',ascending=False)\n",
    "    df.to_csv(file_path, index=False)"
   ]
  },
  {
   "cell_type": "code",
   "execution_count": 14,
   "metadata": {},
   "outputs": [
    {
     "name": "stdout",
     "output_type": "stream",
     "text": [
      "Chunk: context:45.781972125171060736 OR context:45.781974597226799105 OR context:45.781974596740190208 OR context:45.781974596161376261 OR context:45.781974597474263040 OR context:45.781974597310615553 OR context:45.781974596157251587\n",
      "Number of lines pre-extraction:- 4221\n",
      "Number of lines post-extraction:- 5220\n"
     ]
    }
   ],
   "source": [
    "for chunk in chunks:\n",
    "        print(f'Chunk: {chunk}')\n",
    "        # read CSV file\n",
    "        results = pd.read_csv('test.csv')\n",
    "        # count no. of lines\n",
    "        print(\"Number of lines pre-extraction:-\", \n",
    "        len(results))\n",
    "        query       = filter_rule(chunk=chunk)\n",
    "        paginator   = tweepy.Paginator(client.search_recent_tweets, query=query, \n",
    "                                        expansions    = ['author_id','in_reply_to_user_id','geo.place_id','entities.mentions.username','referenced_tweets.id','referenced_tweets.id.author_id'],\n",
    "                                        tweet_fields  = ['id','text','author_id','attachments','context_annotations','created_at','entities','lang','geo','public_metrics'],\n",
    "                                        user_fields   = ['id','name','username','created_at','description','entities','location','public_metrics','verified'],\n",
    "                                        place_fields  = ['full_name','id','country','country_code','geo','name','place_type'], max_results=100).flatten()\n",
    "        for tweet in paginator:\n",
    "        # Assemble all data in a list\n",
    "                data = {\"author_id\": tweet.author_id,\n",
    "                        \"created_at\":tweet.created_at,\n",
    "                        \"tweet_id\": tweet.id,\n",
    "                        \"text\": tweet.text}\n",
    "                append_to_csv(data, fileName=\"test.csv\")\n",
    "\n",
    "        time.sleep(16)\n",
    "        results = pd.read_csv('test.csv')\n",
    "        # count no. of lines\n",
    "        print(\"Number of lines post-extraction:-\", \n",
    "        len(results))\n",
    " \n",
    "deduplicate(\"test.csv\")"
   ]
  },
  {
   "cell_type": "code",
   "execution_count": 15,
   "metadata": {},
   "outputs": [
    {
     "name": "stdout",
     "output_type": "stream",
     "text": [
      "Number of lines post-extraction:- 3265\n"
     ]
    }
   ],
   "source": [
    "results = pd.read_csv('test.csv')\n",
    "        # count no. of lines\n",
    "print(\"Number of lines post-extraction:-\",  len(results))"
   ]
  },
  {
   "cell_type": "code",
   "execution_count": null,
   "metadata": {},
   "outputs": [],
   "source": [
    "df = pd.read_csv(\"data.csv\")\n",
    "df.to_json(r'data.json',orient='records')"
   ]
  },
  {
   "cell_type": "code",
   "execution_count": null,
   "metadata": {},
   "outputs": [],
   "source": [
    "#input\n",
    "import csv\n",
    "count           = 0\n",
    "max_results     = 100 #per Page\n",
    "# flag            = True\n",
    "# next_token      = None\n",
    "\n",
    "for chunk in chunks:\n",
    "    flag        = True\n",
    "    next_token  = None\n",
    "    print(f'Chunk: {chunk}')\n",
    "    query       = filter_rule(chunk=chunk)\n",
    "    while flag:\n",
    "       \n",
    "        print(\"--------------------\")\n",
    "        print(\"Token: \", next_token)\n",
    "        tweets  = get_tweets(query=query,next_token=next_token,max_results=max_results)\n",
    "        tweets_dict = tweets.json() \n",
    "        result_count = tweets_dict['meta']['result_count'] \n",
    "\n",
    "        if 'next_token' in tweets_dict['meta']:\n",
    "            next_token = tweets_dict['meta']['next_token']\n",
    "            print(\"Next Token: \", next_token)\n",
    "\n",
    "            if result_count is not None and result_count > 0 and next_token is not None:\n",
    "                append_to_csv(tweets_dict, \"test.csv\")\n",
    "                count += result_count\n",
    "                total_tweets += result_count\n",
    "                print(\"Total # of Tweets added: \", total_tweets)\n",
    "                print(\"--------------------------\")\n",
    "                time.sleep(5)\n",
    "\n",
    "            # If no next token exists\n",
    "        else:\n",
    "            if result_count is not None and result_count > 0:\n",
    "                print(\"-------------------\")\n",
    "                append_to_csv(tweets_dict, \"test.csv\")\n",
    "                count += result_count\n",
    "                total_tweets += result_count\n",
    "                print(\"Total # of Tweets added: \", total_tweets)\n",
    "                print(\"-------------------\")\n",
    "                time.sleep(5)\n",
    "                    \n",
    "                #Since this is the final request, turn flag to false to move to the next time period.\n",
    "                flag = False\n",
    "                next_token = None\n",
    "        time.sleep(5)\n",
    "\n",
    "# df = pd.read_csv(\"data.csv\")       \n",
    "print(\"Total number of results: \", total_tweets)\n",
    "deduplicate(\"test.csv\")"
   ]
  },
  {
   "cell_type": "code",
   "execution_count": 178,
   "metadata": {},
   "outputs": [],
   "source": [
    "from operator import itemgetter\n",
    "\n",
    "tweets          = None\n",
    "requests_lists  = []\n",
    "next_token      = None\n",
    "\n",
    "tweets  = get_tweets(query=filter_rule(),next_token=next_token,max_results=100)\n",
    "tweets_dict = tweets.json() \n",
    "tweets_data = tweets_dict[\"data\"]\n",
    "tweets_NT   = tweets_dict[\"meta\"]\n",
    "\n",
    "# df = pd.DataFrame(tweets_dict['data'])\n",
    "# #WHILE LOOP UNTIL NEXT_TOKEN IS NULL OR BLANK\n",
    "# while next_token is not None:\n",
    "#     tweets  = get_tweets(query=filter_rule(),next_token=next_token,max_results=100)\n",
    "\n",
    "#     # Save data as dictionary\n",
    "#     tweets_dict = tweets.json() \n",
    "    \n",
    "#     tweets_data     = tweets_dict[\"data\"]\n",
    "#     # tweets_includes = tweets_dict[\"includes\"]\n",
    "#     tweets_NT       = tweets_dict[\"meta\"][\"next_token\"]\n",
    "    \n",
    "# users = tweets_includes[\"users\"]\n",
    "# users = {user[\"id\"]: user for user in users}\n",
    "\n",
    "# for tweet in tweets_data:\n",
    "#     author_id = int(tweet[\"author_id\"])\n",
    "#     print(f'USER ID:                    {users[tweet[\"author_id\"]][\"id\"]}')\n",
    "#     print(f'USER NAME:                  {users[tweet[\"author_id\"]][\"name\"]}')\n",
    "#     print(f'HANDLE:                     {users[tweet[\"author_id\"]][\"username\"]}')\n",
    "#     print(f'VERIFIED:                   {users[tweet[\"author_id\"]][\"verified\"]}')\n",
    "#     print(f'BIO:                        {users[tweet[\"author_id\"]][\"description\"]}')\n",
    "#     print(f'METRICS:                    {users[tweet[\"author_id\"]][\"public_metrics\"]}')\n",
    "#     print(f\"TWEET ID:                   {tweet['id']}\") \n",
    "#     print(f\"TEXT:                       {tweet['text']}\")\n",
    "#     print(f\"CREATED AT:                 {tweet['created_at']}\")\n",
    "#     print(f\"TWEET METRICS:              {tweet['public_metrics']}\")\n",
    "#     context_annotations = tweet.get(\"context_annotations\",[])\n",
    "#     print(f\"CONTEXT - DOMAIN:           {list(map(itemgetter('domain'), context_annotations))}\")\n",
    "#     print(f\"CONTEXT - ENTITY:           {list(map(itemgetter('entity'), context_annotations))}\")\n",
    "#     entities = tweet.get(\"entities\",[])\n",
    "#     print(f\"ENTITIES:                   {entities}\\n\")\n",
    "\n",
    "\n",
    "    # Create a dataframe\n",
    "    # df = pd.DataFrame(tweets_dict['data'])\n",
    "    # # save to csv\n",
    "    # df.to_csv('tweets.csv', index=False)"
   ]
  },
  {
   "attachments": {},
   "cell_type": "markdown",
   "metadata": {},
   "source": [
    "Final note: I would not try to work with pandas dataframes to write your file. I would create an empty list, append the results from each new query to that list, and then write the final list of dictionary objects to a json file (see this question for details). I've learned the hard way that raw tweets and pandas dataframes don't really play nice. Much better to get used to how json objects and dictionaries work.\n"
   ]
  },
  {
   "cell_type": "markdown",
   "metadata": {},
   "source": []
  },
  {
   "cell_type": "code",
   "execution_count": 124,
   "metadata": {},
   "outputs": [
    {
     "data": {
      "image/png": "[encoded data removed]",
      "text/plain": [
       "<Figure size 864x432 with 1 Axes>"
      ]
     },
     "metadata": {
      "needs_background": "light"
     },
     "output_type": "display_data"
    }
   ],
   "source": [
    "import matplotlib.pyplot as plt\n",
    "\n",
    "# Extract the domain names from the Domain_Name field\n",
    "domain_names = [name for row in df['Domain_Name'] for name in row]\n",
    "\n",
    "# Use the Counter function from the collections module to count the number of tweets for each domain\n",
    "from collections import Counter\n",
    "domain_counts = Counter(domain_names)\n",
    "\n",
    "# Sort the domain names by count in descending order\n",
    "sorted_domain_counts = sorted(domain_counts.items(), key=lambda item: item[1], reverse=True)\n",
    "\n",
    "# Get the top 20 domain names and tweet counts\n",
    "top_20_domains = sorted_domain_counts[:20]\n",
    "domains = [domain for domain, count in top_20_domains]\n",
    "tweet_counts = [count for domain, count in top_20_domains]\n",
    "\n",
    "# Create a figure with a larger size\n",
    "fig = plt.figure(figsize=(12, 6))\n",
    "\n",
    "# Create a bar plot of the tweet count for each domain\n",
    "plt.bar(domains, tweet_counts)\n",
    "\n",
    "# Add a title to the plot\n",
    "plt.title('Top 20 Domain Names by Tweet Count')\n",
    "\n",
    "# Rotate the tick labels to make them easier to read\n",
    "plt.xticks(rotation=90)\n",
    "\n",
    "plt.show()"
   ]
  },
  {
   "cell_type": "code",
   "execution_count": 125,
   "metadata": {},
   "outputs": [
    {
     "data": {
      "image/png": "[encoded data removed]",
      "text/plain": [
       "<Figure size 864x432 with 1 Axes>"
      ]
     },
     "metadata": {
      "needs_background": "light"
     },
     "output_type": "display_data"
    }
   ],
   "source": [
    "import matplotlib.pyplot as plt\n",
    "\n",
    "# Extract the entity names from the Entity_Name field\n",
    "entity_names = [name for row in db['Entity_Name'] for name in row]\n",
    "\n",
    "# Use the Counter function from the collections module to count the number of tweets for each entity\n",
    "from collections import Counter\n",
    "entity_counts = Counter(entity_names)\n",
    "\n",
    "# Sort the entity names by count in descending order\n",
    "sorted_entity_counts = sorted(entity_counts.items(), key=lambda item: item[1], reverse=True)\n",
    "\n",
    "# Get the top 20 entity names and tweet counts\n",
    "top_20_entities = sorted_entity_counts[:20]\n",
    "entities = [entity for entity, count in top_20_entities]\n",
    "tweet_counts = [count for entity, count in top_20_entities]\n",
    "\n",
    "# Create a figure with a larger size\n",
    "fig = plt.figure(figsize=(12, 6))\n",
    "\n",
    "# Create a bar plot of the tweet count for each entity\n",
    "plt.bar(entities, tweet_counts)\n",
    "\n",
    "# Add a title to the plot\n",
    "plt.title('Top 20 Entity Names by Tweet Count')\n",
    "\n",
    "# Rotate the tick labels to make them easier to read\n",
    "plt.xticks(rotation=90)\n",
    "\n",
    "plt.show()"
   ]
  },
  {
   "attachments": {},
   "cell_type": "markdown",
   "metadata": {},
   "source": [
    "#create a filter function which filters out anything that can classify as spam.\n",
    "#DATA CLEANING\n",
    "    - REMOVE 50 "
   ]
  },
  {
   "attachments": {},
   "cell_type": "markdown",
   "metadata": {},
   "source": []
  }
 ],
 "metadata": {
  "kernelspec": {
   "display_name": "base",
   "language": "python",
   "name": "python3"
  },
  "language_info": {
   "codemirror_mode": {
    "name": "ipython",
    "version": 3
   },
   "file_extension": ".py",
   "mimetype": "text/x-python",
   "name": "python",
   "nbconvert_exporter": "python",
   "pygments_lexer": "ipython3",
   "version": "3.8.8"
  },
  "orig_nbformat": 4,
  "vscode": {
   "interpreter": {
    "hash": "af5e1ee4a7b9d36dcece4b58ca2b929e916944d8e9e9b48a2729c8b3b73a161a"
   }
  }
 },
 "nbformat": 4,
 "nbformat_minor": 2
}
