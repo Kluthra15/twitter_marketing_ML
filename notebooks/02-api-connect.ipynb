{
 "cells": [
  {
   "cell_type": "code",
   "execution_count": null,
   "metadata": {},
   "outputs": [],
   "source": [
    "\"\"\"Read configuration values from the 'config.ini' file.\n",
    "    \n",
    "    Returns:\n",
    "        api_key (str): The API key for Twitter.\n",
    "        api_key_secret (str): The API key secret for Twitter.\n",
    "        access_token (str): The access token for Twitter.\n",
    "        access_token_secret (str): The access token secret for Twitter.\n",
    "        bearer_token (str): The bearer token for Twitter.\n",
    "\"\"\"\n",
    "\n",
    "config = configparser.ConfigParser()\n",
    "config.read('config.ini')\n",
    "\n",
    "api_key             = config['twitter']['api_key']\n",
    "api_key_secret      = config['twitter']['api_key_secret']\n",
    "\n",
    "access_token        = config['twitter']['access_token']\n",
    "access_token_secret = config['twitter']['access_token_secret']\n",
    "\n",
    "bearer_token        = config['twitter']['bearer_token']\n",
    "\n",
    "print(api_key)\n",
    "print(api_key_secret)\n",
    "print(access_token)\n",
    "print(access_token_secret)"
   ]
  },
  {
   "cell_type": "code",
   "execution_count": null,
   "metadata": {},
   "outputs": [],
   "source": [
    "def authenticate_twitter_api(api_key, api_key_secret, access_token, access_token_secret, bearer_token):\n",
    "    \"\"\"\n",
    "    Authenticate with the Twitter API using the provided credentials.\n",
    "\n",
    "    Args:\n",
    "        api_key (str): The API key for Twitter.\n",
    "        api_key_secret (str): The API key secret for Twitter.\n",
    "        access_token (str): The access token for Twitter.\n",
    "        access_token_secret (str): The access token secret for Twitter.\n",
    "        bearer_token (str): The bearer token for Twitter.\n",
    "\n",
    "    Returns:\n",
    "        str: The screen name/username of the authenticated account.\n",
    "    \"\"\"\n",
    "    t = Twitter(auth=OAuth(access_token, access_token_secret, api_key, api_key_secret))\n",
    "    \n",
    "t = authenticate_twitter_api(api_key, api_key_secret, access_token, access_token_secret, bearer_token)"
   ]
  }
 ],
 "metadata": {
  "language_info": {
   "name": "python"
  }
 },
 "nbformat": 4,
 "nbformat_minor": 2
}
