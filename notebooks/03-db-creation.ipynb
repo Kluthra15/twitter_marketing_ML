{
 "cells": [
  {
   "cell_type": "code",
   "execution_count": null,
   "metadata": {},
   "outputs": [],
   "source": [
    "conn = sqlite3.connect('twitter_data.db')\n",
    "c = conn.cursor()"
   ]
  },
  {
   "cell_type": "code",
   "execution_count": null,
   "metadata": {},
   "outputs": [],
   "source": [
    "# Create table for tweet data\n",
    "c.execute('''CREATE TABLE IF NOT EXISTS tweets\n",
    "             (tweet_id INTEGER PRIMARY KEY,\n",
    "              author_id INTEGER,\n",
    "              created_at TIMESTAMP,\n",
    "              text TEXT,\n",
    "              tweet_metrics JSON,\n",
    "              entities JSON,\n",
    "              context JSON,\n",
    "              place_id JSON,\n",
    "              FOREIGN KEY (author_id) REFERENCES users(author_id),\n",
    "              FOREIGN KEY (place_id) REFERENCES users(place_id))''')"
   ]
  },
  {
   "cell_type": "code",
   "execution_count": null,
   "metadata": {},
   "outputs": [],
   "source": [
    "# Create table for user data\n",
    "c.execute('''CREATE TABLE IF NOT EXISTS users\n",
    "             (author_id INTEGER PRIMARY KEY,\n",
    "              username TEXT,\n",
    "              verified TEXT,\n",
    "              bio TEXT,\n",
    "              author_created TIMESTAMP,\n",
    "              author_location TEXT,\n",
    "              followers_count INTEGER,\n",
    "              following_count INTEGER,\n",
    "              tweet_count INTEGER,\n",
    "              entities JSON,\n",
    "              FOREIGN KEY (author_id) REFERENCES tweets(author_id))''')"
   ]
  },
  {
   "cell_type": "code",
   "execution_count": null,
   "metadata": {},
   "outputs": [],
   "source": [
    "c.execute(\"PRAGMA table_info(tweets)\")\n",
    "columns = c.fetchall()\n",
    "\n",
    "for column in columns:\n",
    "    print(column[1], \"-\", column[2])\n",
    "\n",
    "c.execute(\"SELECT COUNT(DISTINCT tweet_id) FROM tweets\")\n",
    "row_count = c.fetchone()[0]\n",
    "print(f\"Number of rows in 'tweets' table: {row_count}\\n\")\n",
    "\n",
    "\n",
    "c.execute(\"PRAGMA table_info(users)\")\n",
    "columns = c.fetchall()\n",
    "\n",
    "for column in columns:\n",
    "    print(column[1], \"-\", column[2])\n",
    "\n",
    "c.execute(\"SELECT COUNT(DISTINCT author_id) FROM users\")\n",
    "row_count = c.fetchone()[0]\n",
    "print(f\"Number of rows in 'users' table: {row_count}\\n\")"
   ]
  }
 ],
 "metadata": {
  "language_info": {
   "name": "python"
  }
 },
 "nbformat": 4,
 "nbformat_minor": 2
}
