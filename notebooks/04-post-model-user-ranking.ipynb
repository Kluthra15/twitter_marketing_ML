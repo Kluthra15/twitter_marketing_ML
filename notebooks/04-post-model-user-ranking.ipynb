{
 "cells": [
  {
   "cell_type": "code",
   "execution_count": null,
   "metadata": {},
   "outputs": [],
   "source": [
    "# Use the \"c-TF-IDF\" strategy with a threshold\n",
    "new_topics = model.reduce_outliers(df_tweets_preprocessed['text_preprocessed'], topics, strategy=\"c-tf-idf\")\n",
    "model.update_topics(df_tweets_preprocessed['text_preprocessed'], topics=new_topics)"
   ]
  },
  {
   "cell_type": "code",
   "execution_count": null,
   "metadata": {},
   "outputs": [],
   "source": [
    "# Assign the updated topics to the DataFrame\n",
    "# df_tweets_preprocessed['updated_topics'] = new_topics"
   ]
  },
  {
   "cell_type": "code",
   "execution_count": null,
   "metadata": {},
   "outputs": [],
   "source": [
    "# freq = model.get_topic_info()\n",
    "# freq"
   ]
  },
  {
   "cell_type": "code",
   "execution_count": null,
   "metadata": {},
   "outputs": [],
   "source": [
    "# import sys\n",
    "\n",
    "# # Define a file path where you want to save the output\n",
    "# output_file_path = 'output.txt'\n",
    "\n",
    "# # Create a file for writing the output\n",
    "# with open(output_file_path, 'w') as output_file:\n",
    "#     # Redirect sys.stdout to the output file\n",
    "#     sys.stdout = output_file\n",
    "\n",
    "#     best_topics = [1, 5, 10, 17, 21]\n",
    "#     for i in best_topics:\n",
    "#         df_tweets_topic_i = df_tweets_preprocessed[df_tweets_preprocessed['updated_topics'] == i]\n",
    "#         df_tweets_topic_i = pd.merge(\n",
    "#             df_tweets_topic_i,\n",
    "#             freq,\n",
    "#             how=\"left\",\n",
    "#             left_on=['updated_topics'],\n",
    "#             right_on=['Topic']\n",
    "#         )\n",
    "#         name = freq[freq['Topic'] == i]['Name']\n",
    "#         print(f\"Topic: {name}\")\n",
    "#         print(df_tweets_topic_i['text_original'].head(100))\n",
    "\n",
    "# # Reset sys.stdout to its original value to print to the console again\n",
    "# sys.stdout = sys.__stdout__"
   ]
  },
  {
   "cell_type": "code",
   "execution_count": null,
   "metadata": {},
   "outputs": [],
   "source": [
    "# #Which topics are you interested in?\n",
    "\n",
    "# # 1_twitch_sponsored_stream_game: STREAMING, GAMING - 2\n",
    "# # 4_climate_energy_learn_unep\t: ENVIRONMENT & ENERGY SUSTAINABILITY - 4\n",
    "# # 9_health_research_cancer_dr: HEALTH AND CANCER RESEARCH & INNOVATION - 10\n",
    "# # 17_ai_machinelearning_future_cc: ARTIFICIAL INTELLGIENCE RESEARCH & INNOVATION - 17\n",
    "# # 22_women_un_amp_learn\t: HUMAN RIGHTS, EQUALITY, AND WOMEN EMPOWERMENT - 22\n",
    "# custom_name_list = {1: \"Tesla Giveaway\",\n",
    "#                     2: \"Streaming & Gaming\",\n",
    "#                     3: \"Optimus\",\n",
    "#                     4: \"Nike Ads\",\n",
    "#                     5: \"Crypto\" ,\n",
    "#                     6: \"Environment & Energy Sustainability\",\n",
    "#                     7: \"Amazon Deals\",\n",
    "#                     8: \"Youtube Education\",\n",
    "#                     9: \"Spam\",\n",
    "#                     10: \"Blockchain Spam\",\n",
    "#                     11: \"Health and Cancer Research & Innovation\",\n",
    "#                     12: \"Online Deals\",\n",
    "#                     13: \"Ford Car Deals\",\n",
    "#                   # 14: \"LinkedIn Events\",\n",
    "#                     15: \"Iphone Network\",\n",
    "#                     16: \"Memes\",\n",
    "#                     17: \"Media\",\n",
    "#                     18: \"Artificial Intelligence Research & Innovation\",\n",
    "#                     19: \"News\",\n",
    "#                     20: \"Ebay Sports Trading Cards\",\n",
    "#                     21: \"Shopping\",\n",
    "#                     22: \"Human Rights & Equality\"}"
   ]
  },
  {
   "cell_type": "code",
   "execution_count": null,
   "metadata": {},
   "outputs": [],
   "source": []
  },
  {
   "cell_type": "code",
   "execution_count": null,
   "metadata": {},
   "outputs": [],
   "source": [
    "model = BERTopic.load(\"/content/drive/MyDrive/Colab_Notebooks/My_Models\")\n",
    "freq = model.get_topic_info()\n",
    "freq"
   ]
  },
  {
   "cell_type": "code",
   "execution_count": null,
   "metadata": {},
   "outputs": [],
   "source": [
    "df_tweets_pp_temp = pd.concat([df_tweets_preprocessed, pd.Series(model.topics_)],\n",
    "                 axis=1)\n",
    "\n",
    "print(df_tweets_pp_temp.info())"
   ]
  },
  {
   "cell_type": "code",
   "execution_count": null,
   "metadata": {},
   "outputs": [],
   "source": [
    "df_tweets_pp_final = df_tweets_pp_temp.merge(freq,\n",
    "                                            how='left',\n",
    "                                            left_on=0,\n",
    "                                            right_on=['Topic'])"
   ]
  },
  {
   "cell_type": "code",
   "execution_count": null,
   "metadata": {},
   "outputs": [],
   "source": [
    "best_topics = [1, 5, 10, 17, 21]\n",
    "df_tweets_pp_final = df_tweets_pp_final[df_tweets_pp_final[0].isin(best_topics)]"
   ]
  },
  {
   "cell_type": "code",
   "execution_count": null,
   "metadata": {},
   "outputs": [],
   "source": [
    "df_tweets_pp_final = df_tweets_pp_final.merge(users_df,\n",
    "                                               on=['author_id'],\n",
    "                                               how='left')"
   ]
  },
  {
   "cell_type": "code",
   "execution_count": null,
   "metadata": {},
   "outputs": [],
   "source": [
    "# Assuming your DataFrame is named 'df'\n",
    "df_tweets_pp_final.rename(columns={'0': 'topic'}, inplace=True)"
   ]
  },
  {
   "cell_type": "code",
   "execution_count": null,
   "metadata": {},
   "outputs": [],
   "source": [
    "import ast\n",
    "df_tweets_pp_final['tweet_metrics'] = df_tweets_pp_final['tweet_metrics'].apply(ast.literal_eval)"
   ]
  },
  {
   "cell_type": "code",
   "execution_count": null,
   "metadata": {},
   "outputs": [],
   "source": [
    "df_tweets_pp_final['retweet_count']     = df_tweets_pp_final['tweet_metrics'].apply(lambda x: x.get('retweet_count', 0))\n",
    "df_tweets_pp_final['reply_count']       = df_tweets_pp_final['tweet_metrics'].apply(lambda x: x.get('reply_count', 0))\n",
    "df_tweets_pp_final['like_count']        = df_tweets_pp_final['tweet_metrics'].apply(lambda x: x.get('like_count', 0))\n",
    "df_tweets_pp_final['impression_count']  = df_tweets_pp_final['tweet_metrics'].apply(lambda x: x.get('impression_count', 0))"
   ]
  },
  {
   "cell_type": "code",
   "execution_count": null,
   "metadata": {},
   "outputs": [],
   "source": [
    "# Group by specified columns and aggregate metrics\n",
    "df_tweets_grouped = df_tweets_pp_final.groupby(['author_id', 'username', 'followers_count', 'following_count', 'tweet_count', 'CustomName']).agg(\n",
    "    total_tweets=('tweet_id', 'count'),\n",
    "    total_retweets=('retweet_count', 'sum'),\n",
    "    total_replies=('reply_count', 'sum'),\n",
    "    total_likes=('like_count', 'sum'),\n",
    "    total_impressions=('impression_count', 'sum')\n",
    ").reset_index()\n",
    "\n",
    "# Calculate average likes, impressions, and replies per tweet\n",
    "df_tweets_grouped['avg_likes_per_tweet']        = df_tweets_grouped['total_likes'] / df_tweets_grouped['total_tweets']\n",
    "df_tweets_grouped['avg_impressions_per_tweet']  = df_tweets_grouped['total_impressions'] / df_tweets_grouped['total_tweets']\n",
    "df_tweets_grouped['avg_replies_per_tweet']      = df_tweets_grouped['total_replies'] / df_tweets_grouped['total_tweets']"
   ]
  },
  {
   "cell_type": "code",
   "execution_count": null,
   "metadata": {},
   "outputs": [],
   "source": [
    "# Define weights for each criterion\n",
    "weights = {\n",
    "    'Followers': 0.2,\n",
    "    'Tweets': 0.2,\n",
    "    'Avg_Likes_Per_Tweet': 0.25,\n",
    "    'Avg_Impressions_Per_Tweet': 0.25,\n",
    "    'Avg_Replies_Per_Tweet': 0.10\n",
    "}\n",
    "\n",
    "# Calculate a weighted score for each user\n",
    "df_tweets_grouped['user_score'] = (\n",
    "    weights['Followers'] * df_tweets_grouped['followers_count'] +\n",
    "    weights['Tweets'] * df_tweets_grouped['total_tweets'] +\n",
    "    weights['Avg_Likes_Per_Tweet'] * df_tweets_grouped['avg_likes_per_tweet'] +\n",
    "    weights['Avg_Impressions_Per_Tweet'] * df_tweets_grouped['avg_impressions_per_tweet'] +\n",
    "    weights['Avg_Replies_Per_Tweet'] * df_tweets_grouped['avg_replies_per_tweet']\n",
    ")\n",
    "\n",
    "# Sort users by topic and user_score\n",
    "sorted_grouped = df_tweets_grouped.sort_values(by=['CustomName', 'user_score'], ascending=[True, False])\n",
    "\n",
    "# Get the top 5 users per topic\n",
    "top_users_per_topic = sorted_grouped.groupby('CustomName').head(5)"
   ]
  },
  {
   "cell_type": "code",
   "execution_count": null,
   "metadata": {},
   "outputs": [],
   "source": [
    "sorted_grouped[(sorted_grouped['total_tweets'] >= 3)]"
   ]
  }
 ],
 "metadata": {
  "language_info": {
   "name": "python"
  }
 },
 "nbformat": 4,
 "nbformat_minor": 2
}
