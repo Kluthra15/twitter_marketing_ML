{
 "cells": [
  {
   "cell_type": "code",
   "execution_count": null,
   "metadata": {},
   "outputs": [],
   "source": [
    "model = BERTopic.load(\"/content/drive/MyDrive/Colab_Notebooks/My_Models\")\n",
    "freq = model.get_topic_info()\n",
    "freq"
   ]
  },
  {
   "cell_type": "code",
   "execution_count": null,
   "metadata": {},
   "outputs": [],
   "source": [
    "df_tweets_pp_temp = pd.concat([df_tweets_preprocessed, pd.Series(model.topics_)],\n",
    "                 axis=1)\n",
    "\n",
    "print(df_tweets_pp_temp.info())"
   ]
  },
  {
   "cell_type": "code",
   "execution_count": null,
   "metadata": {},
   "outputs": [],
   "source": [
    "df_tweets_pp_final = df_tweets_pp_temp.merge(freq,\n",
    "                                            how='left',\n",
    "                                            left_on=0,\n",
    "                                            right_on=['Topic'])"
   ]
  },
  {
   "cell_type": "code",
   "execution_count": null,
   "metadata": {},
   "outputs": [],
   "source": [
    "best_topics = [1, 5, 10, 17, 21]\n",
    "df_tweets_pp_final = df_tweets_pp_final[df_tweets_pp_final[0].isin(best_topics)]"
   ]
  },
  {
   "cell_type": "code",
   "execution_count": null,
   "metadata": {},
   "outputs": [],
   "source": [
    "df_tweets_pp_final = df_tweets_pp_final.merge(users_df,\n",
    "                                               on=['author_id'],\n",
    "                                               how='left')"
   ]
  },
  {
   "cell_type": "code",
   "execution_count": null,
   "metadata": {},
   "outputs": [],
   "source": []
  },
  {
   "cell_type": "code",
   "execution_count": null,
   "metadata": {},
   "outputs": [],
   "source": []
  },
  {
   "cell_type": "code",
   "execution_count": null,
   "metadata": {},
   "outputs": [],
   "source": []
  }
 ],
 "metadata": {
  "language_info": {
   "name": "python"
  }
 },
 "nbformat": 4,
 "nbformat_minor": 2
}
